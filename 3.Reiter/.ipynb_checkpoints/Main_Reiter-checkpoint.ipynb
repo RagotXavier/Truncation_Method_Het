{
 "cells": [
  {
   "cell_type": "code",
   "execution_count": 3,
   "id": "3a16695e",
   "metadata": {},
   "outputs": [],
   "source": [
    "using Parameters       # @unpack\n",
    "using NBInclude        # including notebooks instead of jl files\n",
    "using QuantEcon        # rouwenhorst\n",
    "using LinearAlgebra    # dot\n",
    "using Roots            # findzero\n",
    "using SparseArrays     # SparseMatrixCSC\n",
    "using IterativeSolvers # powm!\n",
    "using Plots            # Plots\n",
    "# using JuMP\n",
    "# using Ipopt\n",
    "using MAT              # matopen (interaction with Dynare)\n",
    "using FileIO           # save file\n",
    "using JLD2"
   ]
  },
  {
   "cell_type": "code",
   "execution_count": 4,
   "id": "0ced91e0",
   "metadata": {},
   "outputs": [],
   "source": [
    "@nbinclude(\"../1.TRUNCATION/Structures.ipynb\");\n",
    "@nbinclude(\"../1.TRUNCATION/Utils.ipynb\");\n",
    "@nbinclude(\"../1.TRUNCATION/SolveAiyagari.ipynb\");"
   ]
  },
  {
   "cell_type": "code",
   "execution_count": 97,
   "id": "b75ae1ac",
   "metadata": {},
   "outputs": [
    {
     "name": "stdout",
     "output_type": "stream",
     "text": [
      "β = 0.9900130264871905\n"
     ]
    }
   ],
   "source": [
    "params = Params(\n",
    "    KsY=10.26,\n",
    "    α=0.36,\n",
    "    δ=0.025,\n",
    "    γ=1.0001, \n",
    "    θ=0.236207983095,# to be changed endogenously\n",
    "    τ=0.082, #it is public consumption over GDP\n",
    "    na=100,\n",
    "    a_min=1e-9, \n",
    "    a_max=1000.0,\n",
    "    curv_a=4.0,\n",
    "    ny=5,\n",
    "    ρy=0.9962034337990648, \n",
    "    σy=0.04383761259237633\n",
    "    );"
   ]
  },
  {
   "cell_type": "code",
   "execution_count": 98,
   "id": "e3babe3a",
   "metadata": {},
   "outputs": [
    {
     "name": "stdout",
     "output_type": "stream",
     "text": [
      "Markets clear! in: 1 iterations\n",
      "Share of constrained agents: 0.2046123793950992\n",
      "K/Y: 2.6750353502949253\n",
      "C/Y: 0.6524111963063527\n",
      "Gini: 0.708524565574431\n",
      "G/Y: 0.08008526866415488\n",
      "B/Y: 1.4461024087501642e-8\n",
      "Transfers/Y: -0.08008526916609163\n",
      "L: 1.0\n",
      "MPC: 0.22000364785462587\n",
      "I/Y: 0.2675035350294925\n"
     ]
    }
   ],
   "source": [
    "solution = steady(params,Rmin=1.0086444151,Rmax=1.0086444153);\n",
    "@assert check_solution(solution, params)\n",
    "dc,_ = describe_solution(solution,params)\n",
    "for (k,v) in dc\n",
    "    println(k,\": \", v)\n",
    "end"
   ]
  },
  {
   "cell_type": "code",
   "execution_count": 99,
   "id": "54cd646f",
   "metadata": {},
   "outputs": [
    {
     "data": {
      "text/plain": [
       "Reiter (generic function with 1 method)"
      ]
     },
     "execution_count": 99,
     "metadata": {},
     "output_type": "execute_result"
    }
   ],
   "source": [
    "function Reiter(solution::AiyagariSolution, params::Params) \n",
    "    @unpack β,α,δ,θ,Tt,u,u′,na,a_min,aGrid,ny,ys,Πy = params\n",
    "    @unpack ga,gc,R,w,A,Y,K,C,L,transitMat,stationaryDist = solution\n",
    "    I = typeof(na)\n",
    "    T = typeof(β)\n",
    "            \n",
    "    Va = repeat(aGrid,ny)'*transitMat # policy rule in a a'(a)\n",
    "    Vind = zeros(I,na*ny)\n",
    "    Wind = zeros(T,na*ny)\n",
    "\n",
    "    for (i,a) in enumerate(Va)\n",
    "        Vind[i] = maximum(findall(x->x<=a,aGrid))\n",
    "        Wind[i] = 1 - (a - aGrid[Vind[i]])/(aGrid[Vind[i]+1]-aGrid[Vind[i]])\n",
    "    end\n",
    "    \n",
    "    gc_Reiter =  -Va' + R*repeat(aGrid,ny) + w*repeat(ys,inner=na) .+ Tt\n",
    "    \n",
    "    # Computing residuals of Euler equations\n",
    "    resE = zeros(T,na*ny)\n",
    "    for i=1:na\n",
    "        for j=1:ny\n",
    "            ind = i+(j-1)*na\n",
    "            EUc = zero(T)\n",
    "            for jp=1:ny\n",
    "                EUc += Πy[j,jp]*u′(\n",
    "                        Wind[ind]*gc_Reiter[Vind[ind]+(jp-1)*na] +\n",
    "                        (1-Wind[ind])*gc_Reiter[Vind[ind]+1+(jp-1)*na])\n",
    "            end\n",
    "            resE[ind] = u′(gc_Reiter[ind])- β*R*EUc\n",
    "        end\n",
    "    end\n",
    "    \n",
    "    # Computing aggregate welfare\n",
    "    aggWel = sum(stationaryDist.*u.(gc)) + (-Tt)^θ\n",
    "    \n",
    "    # Computing the consumption share of the bottom 10%\n",
    "    M_temp = [repeat(aGrid,1,params.ny)[:]  stationaryDist[:]]\n",
    "    indsort = sortperm(view.(Ref(M_temp), 1:size(M_temp,1), :))\n",
    "    cumDist = cumsum((stationaryDist[:])[indsort]) # cumulative stationary distribution \n",
    "                                                   # sorted by beg-of-period wealth 1st and \n",
    "                                                   # share in the population then.\n",
    "    ind_bot10 = indsort[findall(x -> x<=0.10, cumDist)] # indices of the bottom 10%\n",
    "    c_bot10 = sum(stationaryDist[ind_bot10].*gc[ind_bot10])/sum(stationaryDist[ind_bot10])    \n",
    "                                                   # per-capita consumption of the bottom 10%\n",
    "#     @show Va\n",
    "    return gc_Reiter,W,Vind,Wind,resE,Va,aggWel,ind_bot10,c_bot10\n",
    "end\n",
    "\n",
    "\n"
   ]
  },
  {
   "cell_type": "code",
   "execution_count": 101,
   "id": "66f6a408",
   "metadata": {},
   "outputs": [
    {
     "data": {
      "text/plain": [
       "write_Reiter (generic function with 1 method)"
      ]
     },
     "execution_count": 101,
     "metadata": {},
     "output_type": "execute_result"
    }
   ],
   "source": [
    "function write_Reiter(solution::AiyagariSolution, params::Params;filename::String=\"todynare_Reiter_FLG.mat\")\n",
    "    @unpack β,α,δ,γ,θ,τ,Tt,u,u′,na,a_min,aGrid,ny,ys,Πy = params\n",
    "    @unpack ga,gc,R,w,A,Y,K,C,L,transitMat,stationaryDist = solution\n",
    "    gc_Reiter,W,Vind,Wind,resE,Va,aggWel,ind_bot10,c_bot10 = Reiter(solution,params) \n",
    "    \n",
    "    file = matopen(filename, \"w\")\n",
    "    write(file, \"alpha\", α)\n",
    "    write(file, \"beta\", β)\n",
    "    write(file, \"delta\", δ)\n",
    "    write(file, \"gamma\", γ)\n",
    "    write(file, \"theta\", θ)\n",
    "    write(file, \"tau\", τ)\n",
    "    write(file, \"Trans\", Πy)\n",
    "    write(file, \"abar\", a_min)\n",
    "    write(file, \"states\", ys)\n",
    "    write(file, \"TT_ss\", -Tt)\n",
    "    write(file, \"Vind\", Vind)\n",
    "    write(file, \"Wind\", Wind)\n",
    "    write(file, \"resE\", resE)\n",
    "    write(file, \"na\", na)\n",
    "    write(file, \"ns\", ny)\n",
    "    write(file, \"ytype\", repeat(1:ny,inner=na))\n",
    "    write(file, \"apol\", Va.parent) # tbc\n",
    "    write(file, \"aGrid\", repeat(aGrid,ny))\n",
    "    write(file, \"D_ss\", stationaryDist)\n",
    "    write(file, \"Cpol\",gc_Reiter)\n",
    "    write(file, \"polA_ss\",ga[:])#tbc\n",
    "    write(file, \"w\",w)\n",
    "    write(file, \"R\",R)\n",
    "    write(file, \"K\",K)\n",
    "    write(file, \"Ltot\",L)\n",
    "    write(file, \"Ctot\",C)\n",
    "    write(file, \"b\",ind_bot10)\n",
    "    write(file, \"Cbs\",c_bot10)\n",
    "    write(file, \"Mat\",transitMat)\n",
    "    write(file, \"Ws\",aggWel)\n",
    "    close(file)\n",
    "    @show aggWel\n",
    "    return \n",
    "    \n",
    "end\n",
    "    "
   ]
  },
  {
   "cell_type": "code",
   "execution_count": 102,
   "id": "cc0bff7b",
   "metadata": {},
   "outputs": [
    {
     "name": "stdout",
     "output_type": "stream",
     "text": [
      "aggWel = 1.4687429418180526\n"
     ]
    }
   ],
   "source": [
    "write_Reiter(solution,params);"
   ]
  },
  {
   "cell_type": "code",
   "execution_count": 94,
   "id": "e2672e07",
   "metadata": {},
   "outputs": [],
   "source": [
    "@unpack ga,gc,R,w,A,Y,K,C,L,transitMat = solution\n",
    "@unpack aGrid,ys,Tt,β,Πy,na = params\n",
    "gc_Reiter,W,Vind,Wind,resE,Va,aggWel,ind_bot10,c_bot10 = Reiter(solution,params);\n",
    "# u′(gc_Reiter[5])-resE[5] - β*R*()"
   ]
  },
  {
   "cell_type": "code",
   "execution_count": 96,
   "id": "c2be2d76",
   "metadata": {},
   "outputs": [
    {
     "data": {
      "text/plain": [
       "(  [1  ]  =  0.99245\n",
       "  [101]  =  0.00754997, 1.0e-9)"
      ]
     },
     "execution_count": 96,
     "metadata": {},
     "output_type": "execute_result"
    }
   ],
   "source": [
    "transitMat[:,1],Va[1]"
   ]
  },
  {
   "cell_type": "code",
   "execution_count": 82,
   "id": "5e065905",
   "metadata": {},
   "outputs": [
    {
     "data": {
      "text/plain": [
       "302"
      ]
     },
     "execution_count": 82,
     "metadata": {},
     "output_type": "execute_result"
    }
   ],
   "source": [
    "Vind[5]+(4-1)*na"
   ]
  },
  {
   "cell_type": "code",
   "execution_count": null,
   "id": "e61a05ee",
   "metadata": {},
   "outputs": [],
   "source": []
  }
 ],
 "metadata": {
  "kernelspec": {
   "display_name": "Julia 1.7.1",
   "language": "julia",
   "name": "julia-1.7"
  },
  "language_info": {
   "file_extension": ".jl",
   "mimetype": "application/julia",
   "name": "julia",
   "version": "1.7.1"
  }
 },
 "nbformat": 4,
 "nbformat_minor": 5
}
