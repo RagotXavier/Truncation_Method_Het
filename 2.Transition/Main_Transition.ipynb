{
 "cells": [
  {
   "cell_type": "code",
   "execution_count": 1,
   "id": "7cd940b3",
   "metadata": {},
   "outputs": [],
   "source": [
    "using Parameters       # @unpack\n",
    "using NBInclude        # including notebooks instead of jl files\n",
    "using QuantEcon        # rouwenhorst\n",
    "using LinearAlgebra    # dot\n",
    "using Roots            # findzero\n",
    "using SparseArrays     # SparseMatrixCSC\n",
    "using IterativeSolvers # powm!\n",
    "using Plots            # Plots\n",
    "# using JuMP\n",
    "# using Ipopt\n",
    "using MAT              # matopen (interaction with Dynare)\n",
    "using FileIO           # save file\n",
    "using JLD2"
   ]
  },
  {
   "cell_type": "code",
   "execution_count": 2,
   "id": "e1ee9db7",
   "metadata": {},
   "outputs": [],
   "source": [
    "@nbinclude(\"../1.Truncation/Structures.ipynb\");\n",
    "@nbinclude(\"../1.Truncation/Utils.ipynb\");\n",
    "@nbinclude(\"../1.Truncation/SolveAiyagari.ipynb\");"
   ]
  },
  {
   "cell_type": "code",
   "execution_count": 3,
   "id": "55c11a58",
   "metadata": {},
   "outputs": [
    {
     "name": "stdout",
     "output_type": "stream",
     "text": [
      "β = 0.9900130264871905\n"
     ]
    }
   ],
   "source": [
    "params = Params(\n",
    "    KsY=10.26,\n",
    "    α=0.36,\n",
    "    δ=0.025,\n",
    "    γ=1.0001, \n",
    "    θ = 1.0,# to be changed endogenously\n",
    "    τ=0.082, #it is public consumption over GDP\n",
    "    na=100,\n",
    "    a_min=1e-9, \n",
    "    a_max=1000.0,\n",
    "    curv_a=4.0,\n",
    "    ny=5,\n",
    "    ρy=0.9962034337990648, \n",
    "    σy=0.04383761259237633\n",
    "    );"
   ]
  },
  {
   "cell_type": "code",
   "execution_count": null,
   "id": "3cefd351",
   "metadata": {},
   "outputs": [],
   "source": []
  }
 ],
 "metadata": {
  "kernelspec": {
   "display_name": "Julia 1.7.1",
   "language": "julia",
   "name": "julia-1.7"
  },
  "language_info": {
   "file_extension": ".jl",
   "mimetype": "application/julia",
   "name": "julia",
   "version": "1.7.1"
  }
 },
 "nbformat": 4,
 "nbformat_minor": 5
}
