{
 "cells": [
  {
   "cell_type": "markdown",
   "id": "7fe3e2bd",
   "metadata": {},
   "source": [
    "# Unfortunately, we canot transfer greek letters to matlab. We redefine a \"non-greek\" object and send it to Matalab"
   ]
  },
  {
   "cell_type": "code",
   "execution_count": 36,
   "id": "b8d52089",
   "metadata": {},
   "outputs": [],
   "source": [
    "function Write_Dynare(proj::Projection,solution::AiyagariSolution,\n",
    "        params::Params)\n",
    "    \n",
    "    @unpack β,α,δ,Tt,u′,na,a_min,aGrid,ny,ys = params\n",
    "    @unpack ga,gc,R,w,A,K,C,L = solution\n",
    "\n",
    "\n",
    "\n",
    "Res = proj.allocation_proj.u′_h - (params.β*solution.R)*(proj.allocation_proj.Π_h)*proj.allocation_proj.u′_h\n",
    "tauopt = -params.Tt/(solution.K^params.α*solution.L^(1-params.α))\n",
    "Ctot = w -A + Tt + R*sum(solution.stationaryDist.*repeat(params.aGrid,1,ny))\n",
    "Ws = sum(proj.ξs.ξu1 .*proj.allocation_proj.S_h.*proj.allocation_proj.u_h) .+(-Tt)^(θ)\n",
    "\n",
    "\n",
    "eco = Projection_d(\n",
    "    proj.N,\n",
    "    params.ny,\n",
    "    proj.Ntot,\n",
    "    solution.R,\n",
    "    solution.w,\n",
    "    -params.Tt,\n",
    "    solution.A,\n",
    "    solution.B,\n",
    "    params.ys,\n",
    "    collect(vec(params.Πy')),\n",
    "    proj.allocation_proj.S_h,\n",
    "    proj.allocation_proj.S_h .*proj.allocation_proj.a_beg_h,#by bin\n",
    "    proj.allocation_proj.S_h .*proj.allocation_proj.a_end_h,#by bin\n",
    "    ones(5),\n",
    "    proj.allocation_proj.S_h .*proj.allocation_proj.c_h,#by bin\n",
    "    proj.allocation_proj.u′_h ./proj.ξs.ξu1, #vector of marginal utilities (before multiplication by xsip) by bin\n",
    "    SparseMatrixCSC(proj.allocation_proj.Π_h'), # transpose transition matrix\n",
    "    proj.allocation_proj.u′_h .*proj.allocation_proj.S_h,\n",
    "    params.u.(proj.allocation_proj.c_h) .+10,\n",
    "    Res,\n",
    "    proj.ξs.ξuE,\n",
    "    proj.ind_h,\n",
    "    proj.allocation_proj.resid_E_h,\n",
    "    proj.allocation_proj.ind_cc_h*0,\n",
    "    proj.allocation_proj.ind_cc_h,\n",
    "    proj.allocation_proj.y0_h,\n",
    "    proj.ξs.ξu0,\n",
    "    proj.ξs.ξu1,\n",
    "    proj.ξs.ξu2)\n",
    "\n",
    "\n",
    "    file = matopen(\"todynare_Truncation.mat\", \"w\")\n",
    "    write(file, \"Pl\", plan)\n",
    "    write(file, \"eco\", eco)\n",
    "    write(file, \"alpha\", params.α)\n",
    "    write(file, \"beta\", params.β)\n",
    "    write(file, \"delta\", params.δ)\n",
    "    write(file, \"gamma\", params.γ)\n",
    "    write(file, \"theta\", θ)\n",
    "    write(file, \"tau\", tauopt)\n",
    "    write(file, \"abar\", params.a_min)\n",
    "    write(file, \"states\", params.ys)\n",
    "    write(file, \"G\", -params.Tt)\n",
    "    write(file, \"Ctot\", Ctot)\n",
    "    write(file, \"Ws\", Ws)\n",
    "    close(file)\n",
    "\n",
    "end"
   ]
  },
  {
   "cell_type": "code",
   "execution_count": null,
   "id": "65e73036",
   "metadata": {},
   "outputs": [],
   "source": []
  }
 ],
 "metadata": {
  "kernelspec": {
   "display_name": "Julia 1.7.1",
   "language": "julia",
   "name": "julia-1.7"
  },
  "language_info": {
   "file_extension": ".jl",
   "mimetype": "application/julia",
   "name": "julia",
   "version": "1.7.1"
  }
 },
 "nbformat": 4,
 "nbformat_minor": 5
}
