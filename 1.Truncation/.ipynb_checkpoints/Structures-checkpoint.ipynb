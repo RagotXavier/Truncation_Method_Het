{
 "cells": [
  {
   "cell_type": "markdown",
   "metadata": {},
   "source": [
    "Go back to the [`Main.ipynb`](./Main.html) notebook."
   ]
  },
  {
   "cell_type": "markdown",
   "metadata": {},
   "source": [
    "# Including structs and related constructors"
   ]
  },
  {
   "cell_type": "markdown",
   "metadata": {},
   "source": [
    "# Input"
   ]
  },
  {
   "cell_type": "markdown",
   "metadata": {},
   "source": [
    "We introduce the structure `Economy`, which is an immutable struct containing the parameters of the model and of the resolution."
   ]
  },
  {
   "cell_type": "markdown",
   "metadata": {},
   "source": [
    "## Structure"
   ]
  },
  {
   "cell_type": "code",
   "execution_count": 1,
   "metadata": {},
   "outputs": [],
   "source": [
    "struct Economy{T<:Real,T1<:Function,T2<:Function,T3<:Function,T4<:Function,I<:Int64}\n",
    "    β::T      # discount factor\n",
    "    α::T      # capital share in the Cobb-Douglas production function\n",
    "    δ::T      # capital depreciation\n",
    "    γ::T      # inverse of consumption IES (needed for Dynare only)\n",
    "    θ::T      # Curvature of the public good utility function\n",
    "    τl::T     # labor tax\n",
    "    Tt::T     # transfers\n",
    "    #=\n",
    "        *** utility functions ***\n",
    "    =#\n",
    "    u::T1        # utility function for consumption\n",
    "    u′::T2       # inverse of u\n",
    "    inv_u′::T3   # derivative of u\n",
    "    u′′::T4      # second-order derivative of u \n",
    "    \n",
    "    #=\n",
    "        *** grid for asset choices ***\n",
    "    =#\n",
    "    na    ::I         # number of grid points\n",
    "    a_min ::T         # min asset holdings\n",
    "    aGrid ::Vector{T} # grid for asset choices\n",
    "\n",
    "    #=\n",
    "        *** productivity process ***\n",
    "    =#\n",
    "    ny    ::I         # number of productivity states\n",
    "    ys    ::Vector{T} # productivity states  \n",
    "    Πy    ::Matrix{T} # transition matrix \n",
    "    Sy    ::Vector{T} # productivity distribution \n",
    "end;"
   ]
  },
  {
   "cell_type": "markdown",
   "metadata": {},
   "source": [
    "## Constructor"
   ]
  },
  {
   "cell_type": "markdown",
   "metadata": {},
   "source": [
    "Besides the natural constructor, we introduce a special constructor that can be seen as a calibration device."
   ]
  },
  {
   "cell_type": "code",
   "execution_count": 2,
   "metadata": {},
   "outputs": [],
   "source": [
    "function Economy(\n",
    "    KsY::T,   # Capital-to-output ratio. Used to calibrate β and χ \n",
    "              # by assuming βR=1 at the steady state and assuming an \n",
    "              # aggregate labor supply normalized to 1/3\n",
    "    α::T,     # capital share in the Cobb Douglas prod. function. \n",
    "    δ::T,     # capital depreciation\n",
    "    γ::T,     # inverse of consumption IES\n",
    "    θ::T,     # curvature of the public good utility function\n",
    "    τl::T,    # labor tax\n",
    "    Tt_Y,     # labor tax per GDP    \n",
    "    na::I,    # number of grid points\n",
    "    a_min::T, # min asset holdings\n",
    "    a_max::T, # max asset holdings    \n",
    "    curv_a::T,# curvature of the exponential grid  \n",
    "    ny::I,    # nb of productivity levels\n",
    "    ρy::T,    # annual persistence of the productivity process, \n",
    "              # assuming it is an AR(1). It is then discretized at \n",
    "              # a quarterly frequency using the Rouwenhorst (1995)\n",
    "              # procedure (run in when callling the constructor).\n",
    "    σy::T     # annual standard deviation of the productivity process,\n",
    "              # also used in the Rouwenhorst procedure. \n",
    "    ) where {T<:Real,I<:Int}\n",
    "    \n",
    "    #=\n",
    "        *** Constructing production parameters ***\n",
    "    =#\n",
    "    β  = (one(T) + α/KsY - δ)^(-one(T))\n",
    "    R  = one(T)/β #  before-tax gross interest rate\n",
    "    L  = 1.0\n",
    "    K0 = ((R-1 + δ)/(α*L^(1-α)))^(1 /(α-1)) #capital\n",
    "    Y0 = K0^α*L^(1-α) #output\n",
    "    Tt = -Tt_Y*Y0\n",
    "    \n",
    "    #=\n",
    "        *** Constructing utility functions ***\n",
    "    =#\n",
    "    u = c::T -> (γ ≈ one(T)) ? log.(c) : (c.^(one(T)-γ)-one(T))./(one(T)-γ)::T\n",
    "    u′ = c::T -> c.^(-γ)::T\n",
    "    inv_u′ = up::T -> up.^(-one(T)/γ)::T    \n",
    "    u′′ = c::T -> -γ*c.^(-γ-one(T))::T\n",
    "    \n",
    "    #=\n",
    "        *** Constructing the asset grid ***\n",
    "    =#    \n",
    "    aGrid = a_min .+ (a_max-a_min)*(range(0.0, 1.0, length=na)).^curv_a\n",
    "    \n",
    "    #=\n",
    "        *** Constructing the productivity process ***\n",
    "    =#\n",
    "    mc    =  rouwenhorst(ny,ρy,σy)\n",
    "    Trans = collect(mc.p')\n",
    "    Trans[findall(x->x<=5*10^-5,Trans)] .= zero(Trans[1,1])\n",
    "    for i = 1:ny\n",
    "        Trans[i,i] += one(Trans[1,1]) - sum(Trans,dims=1)[i]\n",
    "    end\n",
    "    Sy  = (Trans^100000)[:,1]\n",
    "    \n",
    "    endow = exp.(mc.state_values)\n",
    "    ys = endow./dot(Sy,endow) # ensuring L=1\n",
    "    \n",
    "    # return the Economy using the natural constructor \n",
    "    return Economy{T,typeof(u),typeof(u′),typeof(inv_u′),\n",
    "                    typeof(u′′),I}(\n",
    "        β,α,δ,γ,θ,τl,Tt,\n",
    "        u,u′,inv_u′,u′′,\n",
    "        na,a_min,aGrid,\n",
    "        ny,ys,Trans',Sy)\n",
    "end;"
   ]
  },
  {
   "cell_type": "markdown",
   "metadata": {},
   "source": [
    "The following constructor is the same as before but with keyword arguments."
   ]
  },
  {
   "cell_type": "code",
   "execution_count": 3,
   "metadata": {},
   "outputs": [],
   "source": [
    "function Economy(;\n",
    "    KsY::T,\n",
    "    α::T,\n",
    "    δ::T,\n",
    "    γ::T,\n",
    "    θ::T,\n",
    "    τl::T,\n",
    "    Tt_Y::T,\n",
    "    na::I, \n",
    "    a_min::T, \n",
    "    a_max::T,     \n",
    "    curv_a::T,\n",
    "    ny::I,\n",
    "    ρy::T, \n",
    "    σy::T\n",
    "    ) where {T<:Real,I<:Int}\n",
    "    Economy(KsY,α,δ,γ,θ,τl,Tt_Y,na,a_min,a_max,curv_a,ny,ρy,σy)\n",
    "end;"
   ]
  },
  {
   "cell_type": "markdown",
   "metadata": {},
   "source": [
    "# Output of the Aiyagari model"
   ]
  },
  {
   "cell_type": "markdown",
   "metadata": {},
   "source": [
    "We introduce the structure `AiyagariSolution`, which is a mutable struct containing the model solution."
   ]
  },
  {
   "cell_type": "markdown",
   "metadata": {},
   "source": [
    "## Structure "
   ]
  },
  {
   "cell_type": "code",
   "execution_count": 4,
   "metadata": {},
   "outputs": [],
   "source": [
    "mutable struct AiyagariSolution{T<:Real,I<:Integer}    \n",
    "    ga::Matrix{T} # policy function for savings on the asset grid\n",
    "    gc::Matrix{T} # policy function for consumption on the asset grid\n",
    "    R::T          # post-tax gross interest rate\n",
    "    w::T          # post-tax wage rate\n",
    "    A::T          # aggregate savings\n",
    "    C::T          # aggregate consumption\n",
    "    K::T          # aggregate capital\n",
    "    L::T          # aggregate labor supply (in efficient units)\n",
    "    G::T          # public spending\n",
    "    Y::T          # GDP\n",
    "    B::T          # public debt\n",
    "    transitMat::SparseMatrixCSC{T,I}\n",
    "                  # transition matrix from one pair \n",
    "                  # (asset x productivity) to another\n",
    "    stationaryDist::Matrix{T}\n",
    "                  # stationary distribution over the product grid\n",
    "                  # (asset x productivity)\n",
    "    residEuler::Matrix{T}\n",
    "                  # Euler equation residuals\n",
    "end;"
   ]
  },
  {
   "cell_type": "markdown",
   "metadata": {},
   "source": [
    "## Constructor"
   ]
  },
  {
   "cell_type": "markdown",
   "metadata": {},
   "source": [
    "We introduce a construtor that enables to initialize the solution structure for a given `Economy` input."
   ]
  },
  {
   "cell_type": "code",
   "execution_count": 5,
   "metadata": {},
   "outputs": [],
   "source": [
    "function AiyagariSolution(eco::Economy{T,T1,T2,T3,T4,I}) where {T<:Real,\n",
    "            T1<:Function,T2<:Function,T3<:Function,\n",
    "            T4<:Function,I<:Int64}\n",
    "    @unpack β,α,δ,u′,θ,τl,na,aGrid,ny,ys = eco\n",
    "    R = one(T)/β #  before-tax gross interest rate\n",
    "    wt = (one(T)-α) * ((R - (one(T)-δ))/α)^(α/(α-one(T)))\n",
    "    w  = (1-τl)*wt\n",
    "        \n",
    "    cs = repeat(ys', outer=(na,1))\n",
    "\n",
    "    as = repeat(aGrid, outer=(1,ny))\n",
    "    L  = one(T)\n",
    "    A  = sum(as)\n",
    "    return AiyagariSolution{T,I}(as,cs,R,w,A,A,A,L,\n",
    "                                 zero(T),A*L,zero(T),\n",
    "                                 spzeros(T, I, na*ny,na*ny), \n",
    "                                 fill(one(T)/(na*ny), na,ny), \n",
    "                                 zeros(T,na,ny))\n",
    "end;"
   ]
  },
  {
   "cell_type": "markdown",
   "metadata": {},
   "source": [
    "# Truncation"
   ]
  },
  {
   "cell_type": "markdown",
   "metadata": {},
   "source": [
    "## Structures"
   ]
  },
  {
   "cell_type": "markdown",
   "metadata": {},
   "source": [
    "We consider three structures for the Truncation:\n",
    "\n",
    "* `Allocation_trunc` containing the allocations at the truncated history level (as well as sizes and transition matrix);\n",
    "* `ξs` containing the various ξs (residual heterogeneity parameters);\n",
    "* `Lagrange_mult` containing Lagrange mutipliers of the Ramsey program;\n",
    "* `Truncation` containing the three previous structures."
   ]
  },
  {
   "cell_type": "code",
   "execution_count": 6,
   "metadata": {},
   "outputs": [],
   "source": [
    "struct Allocation_trunc{I<:Integer,T<:Real}\n",
    "    S_h::Vector{T}       # size of truncated histories\n",
    "    Π_h::SparseMatrixCSC{T,I}# transition matrix for histories\n",
    "    y0_h::Vector{T}      # current productivity levels\n",
    "    a_beg_h::Vector{T}   # beginning-of-period wealth per history and per capita\n",
    "    a_end_h::Vector{T}   # end-of-period wealth per history and per capita\n",
    "    c_h::Vector{T}       # consumption per history and per capita\n",
    "    u_h::Vector{T}       # utility of consumption per history and per capita\n",
    "    u′_h::Vector{T}      # marginal utility of consumption per history and per capita\n",
    "    u′′_h::Vector{T}     # second-order derivative of utility of consumption per history and per capita\n",
    "    resid_E_h::Vector{T} # Euler Lagrange multiplier at the history level\n",
    "    nb_cc_h::I           # nb of credit constrained histories\n",
    "    ind_cc_h::Vector{I}  # indices of credit constrained histories\n",
    "end\n",
    "\n",
    "struct ξs_struct{T<:Real}# (residual heterogeneity parameters)\n",
    "    ξu0::Vector{T}       # corresponds to u\n",
    "    ξu1::Vector{T}       # corresponds to u′\n",
    "    ξu2::Vector{T}       # corresponds to u′′\n",
    "end  \n",
    "\n",
    "struct Lagrange_mult{T<:Real}\n",
    "    λ::Array{T,1}        # Lagrange multiplier on Euler equation\n",
    "    λt::Array{T,1}       # past Lagrange multiplier on Euler equation\n",
    "    ψh::Array{T,1}       # social valuation of liquidity\n",
    "    Φ::Array{T,1}        #  \n",
    "end\n",
    "\n",
    "struct Truncation{I<:Integer,T<:Real}\n",
    "    N::I             # truncation length\n",
    "    Ntot::I          # nb of postive-size truncated histories\n",
    "    ind_h::Vector{I} # vector of indices of postive-size truncated histories\n",
    "    allocation_trunc::Allocation_trunc{I,T}\n",
    "                     # truncated allocation (see above)\n",
    "    ξs::ξs_struct{T} # residual heterogeneity parameters (see above)\n",
    "    lagrange_mult::Lagrange_mult{T}\n",
    "    θ::T             # Curvature of the public good utility function\n",
    "                     # (may be endogenous)\n",
    "end;"
   ]
  },
  {
   "cell_type": "markdown",
   "metadata": {},
   "source": [
    "## Constructors\n",
    "\n",
    "These constructors are only meant to provide constructor with keywords."
   ]
  },
  {
   "cell_type": "code",
   "execution_count": 7,
   "metadata": {},
   "outputs": [],
   "source": [
    "function Allocation_trunc(;S_h::Vector{T},Π_h::SparseMatrixCSC{T,I},y0_h::Vector{T},\n",
    "        a_beg_h::Vector{T},a_end_h::Vector{T},c_h::Vector{T},u_h::Vector{T},u′_h::Vector{T},u′′_h::Vector{T},\n",
    "        resid_E_h::Vector{T},\n",
    "        nb_cc_h::I,ind_cc_h::Vector{I}) where{I<:Integer,T<:Real}\n",
    "    Allocation_trunc{I,T}(S_h,Π_h,y0_h,a_beg_h,a_end_h,c_h,u_h,u′_h,u′′_h,\n",
    "            resid_E_h, nb_cc_h,ind_cc_h)    \n",
    "end\n",
    "\n",
    "function ξs_struct(;ξu0::Vector{T},ξu1::Vector{T},ξu2::Vector{T}) where{T<:Real}\n",
    "    ξs_struct{T}(ξu0,ξu1,ξu2)\n",
    "end  \n",
    "\n",
    "function Lagrange_mult(;λ::Vector{T},λt::Vector{T}, ψh::Vector{T},Φ::Vector{T}) where {T<:Real}\n",
    "    Lagrange_mult{T}(λ,λt,ψh,Φ)\n",
    "end\n",
    "\n",
    "function Truncation(;N::I,Ntot::I,ind_h::Vector{I},\n",
    "        allocation_trunc::Allocation_trunc{I,T},ξs::ξs_struct{T},\n",
    "        lagrange_mult::Lagrange_mult{T},θ::T) where {I<:Integer,T<:Real}\n",
    "    Truncation{I,T}(N,Ntot,ind_h,allocation_trunc,ξs,lagrange_mult,θ)\n",
    "end;"
   ]
  },
  {
   "cell_type": "markdown",
   "metadata": {},
   "source": [
    "# Dynare specific structure\n",
    "\n",
    "Unfortunately, we cannot transfer greek letter to Matlab on which relies Dynare. For this reason, we define a specific object without greek letters, which will consist in a translation of the structure `Truncation`."
   ]
  },
  {
   "cell_type": "code",
   "execution_count": 8,
   "metadata": {},
   "outputs": [],
   "source": [
    "struct Truncation_d{T <: Real,I <: Integer} #be careful the following structure store information by bin (and not per capita). Divide by the size of the bin to have per capita terms    \n",
    "    N::I #lenght of the truncation\n",
    "    ns::I #number of states\n",
    "    Nbin::I #number of bins\n",
    "    R::T\n",
    "    w::T\n",
    "    TT::T\n",
    "    A::T\n",
    "    B::T\n",
    "    states::Array{T,1}\n",
    "    Transv::Array{T,1}\n",
    "    Sp::Array{T,1} #size of each bin\n",
    "    abp::Array{T,1}\n",
    "    aep::Array{T,1}\n",
    "    lb::Array{T,1}\n",
    "    cp::Array{T,1}\n",
    "    Ucv::Array{T,1} #vector of marginal utilities (before multiplication by xsip) by bin\n",
    "    Matab::Matrix{T} #transition matrix\n",
    "    Ucp::Array{T,1}\n",
    "    Ul::Array{T,1}\n",
    "    Res::Array{T,1} #check that res is small and Res =  Upvb - β*R*Matab*Upvb\n",
    "    Ntoi::Array{I,1}\n",
    "    CC::Array{T,1}\n",
    "    indnc::Array{I,1} #index of non-credit constrained histories\n",
    "    indcc::Array{I,1} #index of credit constrained histories\n",
    "    ytype::Array{T,1}\n",
    "    xsyn::Array{Float64,1}\n",
    "    xsyn1::Array{Float64,1}\n",
    "    xsyn2::Array{Float64,1}\n",
    "end\n",
    "\n",
    "struct Lagrange_mult_d{T <: Real}\n",
    "    lambda::Array{T,1}\n",
    "    lambdat::Array{T,1}\n",
    "    psih::Array{T,1}\n",
    "    Phi::Array{T,1}\n",
    "end;"
   ]
  },
  {
   "cell_type": "markdown",
   "metadata": {},
   "source": [
    "The function Write_Dynare"
   ]
  },
  {
   "cell_type": "code",
   "execution_count": 9,
   "metadata": {},
   "outputs": [],
   "source": [
    "function Write_Dynare(trunc::Truncation,solution::AiyagariSolution,\n",
    "        economy::Economy; outname=\"todynare_Truncation.mat\")\n",
    "    \n",
    "    @unpack β,α,δ,γ,Tt,u,u′,na,a_min,aGrid,ny,ys = economy\n",
    "    @unpack R,w,A,K,C,L,B = solution\n",
    "    @unpack N,Ntot,ind_h,allocation_trunc,ξs,lagrange_mult,θ=trunc\n",
    "    @unpack c_h,u′_h,Π_h,S_h,y0_h,a_beg_h,a_end_h,resid_E_h,ind_cc_h = allocation_trunc\n",
    "    @unpack ξu0,ξu1,ξu2= ξs\n",
    "\n",
    "    resid = u′_h - (β*R)*Π_h*u′_h\n",
    "    tauopt = -Tt/(K^α*L^(1-α))\n",
    "    Ctot = w*sum(S_h.*y0_h) - A + Tt + R*sum(solution.stationaryDist.*repeat(economy.aGrid,1,ny))\n",
    "    Welfare = sum(ξu0 .* S_h .* u.(c_h)) .+ (-Tt)^(θ)\n",
    "\n",
    "    lagrange_m_d = Lagrange_mult_d(lagrange_mult.λ,\n",
    "                                   lagrange_mult.λt,\n",
    "                                   lagrange_mult.ψh,\n",
    "                                   lagrange_mult.Φ)\n",
    "    \n",
    "    eco = Truncation_d(\n",
    "        N,\n",
    "        ny,\n",
    "        Ntot,\n",
    "        R,\n",
    "        w,\n",
    "        -Tt,\n",
    "        A,\n",
    "        B,\n",
    "        ys,\n",
    "        collect(vec(economy.Πy')),\n",
    "        S_h,\n",
    "        S_h.*a_beg_h,#by bin\n",
    "        S_h.*a_end_h,#by bin\n",
    "        ones(5),\n",
    "        S_h.*c_h,#by bin\n",
    "        u′_h, #vector of marginal utilities (before multiplication by xsi1)\n",
    "        Matrix(Π_h'), # transpose transition matrix\n",
    "        u′_h.*S_h,\n",
    "        u.(c_h),\n",
    "        resid,\n",
    "        ind_h,\n",
    "        resid_E_h,\n",
    "        ind_cc_h*0,\n",
    "        ind_cc_h,\n",
    "        y0_h,\n",
    "        ξu0,\n",
    "        ξu1,\n",
    "        ξu2)\n",
    "    \n",
    "    file = matopen(outname, \"w\")\n",
    "    write(file, \"Pl\", lagrange_m_d)\n",
    "    write(file, \"eco\", eco)\n",
    "    write(file, \"alpha\", α)\n",
    "    write(file, \"beta\", β)\n",
    "    write(file, \"delta\", δ)\n",
    "    write(file, \"gamma\", γ)\n",
    "    write(file, \"theta\", θ)\n",
    "    write(file, \"tau\", tauopt)\n",
    "    write(file, \"abar\", a_min)\n",
    "    write(file, \"states\", ys)\n",
    "    write(file, \"G\", -Tt)\n",
    "    write(file, \"Ctot\", C)\n",
    "    write(file, \"Ws\", Welfare)\n",
    "    close(file)\n",
    "\n",
    "end;"
   ]
  }
 ],
 "metadata": {
  "kernelspec": {
   "display_name": "Julia 1.8.0",
   "language": "julia",
   "name": "julia-1.8"
  },
  "language_info": {
   "file_extension": ".jl",
   "mimetype": "application/julia",
   "name": "julia",
   "version": "1.8.0"
  }
 },
 "nbformat": 4,
 "nbformat_minor": 2
}
