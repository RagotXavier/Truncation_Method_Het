{
 "cells": [
  {
   "cell_type": "markdown",
   "id": "936f01b1",
   "metadata": {},
   "source": [
    "Go back to the `SolveAiyagari.ipynb` notebook."
   ]
  },
  {
   "cell_type": "markdown",
   "id": "26a08fe8",
   "metadata": {},
   "source": [
    "# Useful functions"
   ]
  },
  {
   "cell_type": "markdown",
   "id": "890c68c0",
   "metadata": {},
   "source": [
    "## Gini coefficient"
   ]
  },
  {
   "cell_type": "markdown",
   "id": "4d576a77",
   "metadata": {},
   "source": [
    "We consider a discrete distribution of variables $\\{y_i\\}_{i=1,\\ldots,n}$ with probabilities $\\{p_{y_i}\\}_{i=1,\\ldots,n}$. The variables $\\{y_i\\}$ are positive and sorted in increasing order ($0<y_i<y_{i+1}$). \n",
    "The Gini coefficient $G$ is then defined as:\n",
    "$$G = 1- \\frac{\\sum_{i=1}^n p_{y_i}(S_{i-1}+S_{i})}{S_n},$$\n",
    "where $S_0=0$ and:\n",
    "$$S_i = \\sum_{j=1}^i y_jp_{y_j}.$$\n",
    "\n",
    "The function we define is `Gini(ys, pys)`,where `ys` corresponds to $\\{y_i\\}_{i=1,\\ldots,n}$, and `pys` to $\\{p_{y_i}\\}_{i=1,\\ldots,n}$. The inputs `ys` and `pys` can be either of type `Vector` or `Matrix` (but both of the same type).\n",
    "\n",
    "The input `ys` is *not* required to be sorted."
   ]
  },
  {
   "cell_type": "code",
   "execution_count": 27,
   "id": "a9f8abdd",
   "metadata": {},
   "outputs": [
    {
     "data": {
      "text/plain": [
       "Gini (generic function with 2 methods)"
      ]
     },
     "execution_count": 27,
     "metadata": {},
     "output_type": "execute_result"
    }
   ],
   "source": [
    "function Gini(ys::Vector{T}, pys::Vector{T})::T where{T<:Real}\n",
    "    @assert size(ys)==size(pys)\n",
    "    iys = sortperm(ys)\n",
    "    ys .= ys[iys]\n",
    "    pys .= pys[iys]\n",
    "    Ss = [zero(T); cumsum(ys.*pys)]\n",
    "    return one(T) - sum(pys.*(Ss[1:end-1].+Ss[2:end]))/Ss[end]\n",
    "end\n",
    "function Gini(ys::Matrix{T}, pys::Matrix{T})::T where{T<:Real}\n",
    "    @assert size(ys)==size(pys)\n",
    "    return Gini(ys[:],pys[:])\n",
    "end"
   ]
  },
  {
   "cell_type": "markdown",
   "id": "75ca2cbb",
   "metadata": {},
   "source": [
    "## Formatting function"
   ]
  },
  {
   "cell_type": "markdown",
   "id": "e4be3e03",
   "metadata": {},
   "source": [
    "The function `format(x, prec)` returns the number `x` formatted with the precision `prec`. If `x` is an Integer, no modification is done."
   ]
  },
  {
   "cell_type": "code",
   "execution_count": 20,
   "id": "e55475d6",
   "metadata": {},
   "outputs": [
    {
     "data": {
      "text/plain": [
       "fmt (generic function with 4 methods)"
      ]
     },
     "execution_count": 20,
     "metadata": {},
     "output_type": "execute_result"
    }
   ],
   "source": [
    "function fmt(x::I, prec::J=2) where{I<:Integer,J<:Integer}\n",
    "    return x\n",
    "end\n",
    "function fmt(x::T, prec::J=2) where{T<:Real,J<:Integer}\n",
    "    return round(x,digits=prec)\n",
    "end"
   ]
  },
  {
   "cell_type": "code",
   "execution_count": null,
   "id": "218cd542",
   "metadata": {},
   "outputs": [],
   "source": []
  }
 ],
 "metadata": {
  "kernelspec": {
   "display_name": "Julia 1.7.1",
   "language": "julia",
   "name": "julia-1.7"
  },
  "language_info": {
   "file_extension": ".jl",
   "mimetype": "application/julia",
   "name": "julia",
   "version": "1.7.1"
  }
 },
 "nbformat": 4,
 "nbformat_minor": 5
}
