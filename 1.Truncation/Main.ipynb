{
 "cells": [
  {
   "cell_type": "markdown",
   "id": "c1812713",
   "metadata": {},
   "source": [
    "Optimal Policies with Heterogeneous Agents: Truncation and Transitions\n",
    "==============\n",
    "\n",
    "# Computational appendix\n",
    "\n",
    "**Authors:** *[François Le Grand](https://francois-le-grand.fr/)* and *[Xavier Ragot](http://xavier-ragot.fr/)*\n",
    "\n",
    "This page presents the implementation and the codes for the paper *[Optimal Policies with Heterogeneous Agents: Truncation and Transitions](http://xavier-ragot.fr/)*. The codes are in Julia (for the steady state) and Matlab and Dynare (for the simulations in the presence of aggregate shocks). \n",
    "\n",
    "The steady-state part in Julia relies on five notebooks (alll notebooks can be clicked). This part must be run first since it creates a mat-file called `todynare_Truncation.mat` that is required to launch the Dynare solver.\n",
    "* [`Main.ipynb`](./Main.html) is the main notebook (the present one). It computes the steady-state and creates the file `todynare_Truncation.mat` for simulating the model with aggregate shocks. It also contains links to the other notebooks. \n",
    "* [`Structures.ipynb`](./Structures.html) contains the various structures that we use.\n",
    "* [`Utils.ipynb`](./Utils.html) contains some useful functions (computing the Gini coefficient, etc.).\n",
    "* [`SolveAiyagari.ipynb`](./SolveAiyagari.html) solves for the Aiyagari model.\n",
    "* [`Truncation.ipynb`](./Truncation.html) computes the truncated model. \n",
    "\n",
    "The aggregate shock part relies on three files.\n",
    "* [`Dynare_Truncation.m`](./MATLAB/Dynare_Truncation.html) is the main file for aggregate shocks. It writes a Dynare mod file (called `DyTruncation.mod`) and runs it. This file computes IRFs and second-order moments. It can also simulate a transition path (see the file for further explanation).\n",
    "* [`post-dynare-stoch-simul.m`](post-dynare-stoch-simul.html) and [`post-dynare-perfect-foresight.m`](post-dynare-perfect-foresight.html) are two files for data post-processing. These files are launched automatically and not meant to be launched on their own.\n",
    "\n",
    "\n",
    "We now proceed with the `Main` file. We start with packager imports."
   ]
  },
  {
   "cell_type": "markdown",
   "id": "e8996e5f",
   "metadata": {},
   "source": [
    "# Including packages and other notebooks"
   ]
  },
  {
   "cell_type": "markdown",
   "id": "3edcda38",
   "metadata": {},
   "source": [
    "We include a number of packages:\n",
    "* `Parameters`: to use `@unpack`;\n",
    "* `NBInclude`: to include packages;\n",
    "* `QuantEcon`: to use the function `rouwenhorst` to discretize the AR(1) package;\n",
    "* `LinearAlgebra`: to use the `dot  function (inner product);\n",
    "* `Roots`: to use the `findzero` function (root search);\n",
    "* `SparseArrays`: to manipulate sparse vectors and sparrse matrices;\n",
    "* `IterativeSolvers`: to use the function `powm!` (find the largest eigenvalue of a matrix);\n",
    "* `Plots`: to draw plots;\n",
    "* `MAT`: to save file under he Matlab .mat format (needed for the interaction with Dynare);\n",
    "* `FileIO`: loading and saving files;\n",
    "* `JLD2`: to manipulate JDL2 file formats."
   ]
  },
  {
   "cell_type": "code",
   "execution_count": 1,
   "id": "c8afd1f9",
   "metadata": {},
   "outputs": [],
   "source": [
    "using Parameters       # @unpack\n",
    "using NBInclude        # including notebooks instead of jl files\n",
    "using QuantEcon        # rouwenhorst\n",
    "using LinearAlgebra    # dot\n",
    "using Roots            # findzero\n",
    "using SparseArrays     # SparseMatrixCSC\n",
    "using IterativeSolvers # powm!\n",
    "using Plots            # Plots\n",
    "using MAT              # matopen (interaction with Dynare)\n",
    "using FileIO           # saving file\n",
    "using JLD2             # manipulating JDL2 file format"
   ]
  },
  {
   "cell_type": "markdown",
   "id": "5c236a57",
   "metadata": {},
   "source": [
    "We include the following notebooks (their names are clickable):\n",
    "* [`Structures.ipynb`](./Structures.html) contains the various structures that we use.\n",
    "* [`Utils.ipynb`](./Utils.html) contains some useful functions (computing the Gini coefficient, etc.).\n",
    "* [`SolveAiyagari.ipynb`](./SolveAiyagari.html) solves for the Aiyagari model.\n",
    "* [`Truncation.ipynb`](./Truncation.html) computes the truncated model. "
   ]
  },
  {
   "cell_type": "code",
   "execution_count": 2,
   "id": "cf4dd489",
   "metadata": {},
   "outputs": [],
   "source": [
    "@nbinclude(\"Structures.ipynb\");\n",
    "@nbinclude(\"Utils.ipynb\");\n",
    "@nbinclude(\"SolveAiyagari.ipynb\");\n",
    "@nbinclude(\"Truncation.ipynb\");"
   ]
  },
  {
   "cell_type": "markdown",
   "id": "a94fe63f",
   "metadata": {},
   "source": [
    "# Computing the truncated model"
   ]
  },
  {
   "cell_type": "markdown",
   "id": "2487c4cf",
   "metadata": {},
   "source": [
    "## The calibration\n",
    "\n",
    "We use the structure `Economy` of the notebook [`Economy`](./Economy.html) and a special constructor that provides a calibration device. \n",
    "\n",
    "For further details on the mechanism of the calibration, please refer to the notebook [`Economy`](./Economy.html)."
   ]
  },
  {
   "cell_type": "code",
   "execution_count": 3,
   "id": "a0cbee2b",
   "metadata": {},
   "outputs": [],
   "source": [
    "economy_Tt = Economy(\n",
    "    KsY=10.26,\n",
    "    α=0.36,\n",
    "    δ=0.025,\n",
    "    γ=1.0001, \n",
    "    θ = 1.0,# to be changed endogenously\n",
    "    τl=0.0, # labor tax\n",
    "    Tt_Y = 0.082, # lump-sum tax to GDP\n",
    "    na=100,\n",
    "    a_min=1e-9, \n",
    "    a_max=1000.0,\n",
    "    curv_a=4.0,\n",
    "    ny=5,\n",
    "    ρy=0.9962034337990648, \n",
    "    σy=0.04383761259237633\n",
    ");"
   ]
  },
  {
   "cell_type": "code",
   "execution_count": 3,
   "id": "afbde808",
   "metadata": {},
   "outputs": [],
   "source": [
    "economy_τl = Economy(\n",
    "    KsY=10.26,\n",
    "    α=0.36,\n",
    "    δ=0.025,\n",
    "    γ=1.0001, \n",
    "    θ = 1.0,# to be changed endogenously\n",
    "    τl= 0.12513323082713207, # labor tax\n",
    "    Tt_Y = 0., # lump-sum tax to GDP\n",
    "    na=100,\n",
    "    a_min=1e-9, \n",
    "    a_max=1000.0,\n",
    "    curv_a=4.0,\n",
    "    ny=5,\n",
    "    ρy=0.9962034337990648, \n",
    "    σy=0.04383761259237633\n",
    ");"
   ]
  },
  {
   "cell_type": "markdown",
   "id": "a1474b10",
   "metadata": {},
   "source": [
    "## Computing the solution of the Aiyagari model\n",
    "\n",
    "The function `steady` takes an input a set of economy parameters `economy` (as a `Economy` structure) and returns the solution of the Aiyagari model (as an `AiyagariSolution` structure). The `Rmin` and `Rmax` parameters are optional bounds for the dichotomy algorithm.\n",
    "For further details on:\n",
    "* the structures, refer to the notebook [`Structures`](./Structures.html);\n",
    "* the Aiyagari solution, refer to the notebook [`SolveAiyagari`](./SolveAiyagari.html)."
   ]
  },
  {
   "cell_type": "code",
   "execution_count": 4,
   "id": "bd8c0ab1",
   "metadata": {},
   "outputs": [
    {
     "name": "stdout",
     "output_type": "stream",
     "text": [
      "Markets clear! in: 1 iterations\n"
     ]
    }
   ],
   "source": [
    "solution_Tt = steady(economy_Tt,Rmin=1.0086444151,Rmax=1.0086444153);"
   ]
  },
  {
   "cell_type": "code",
   "execution_count": 4,
   "id": "b8c85d08",
   "metadata": {},
   "outputs": [
    {
     "name": "stdout",
     "output_type": "stream",
     "text": [
      "Markets clear! in: 1 iterations\n"
     ]
    }
   ],
   "source": [
    "solution_τl = steady(economy_τl,Rmin=1.0089195435,Rmax=1.0089195436);"
   ]
  },
  {
   "cell_type": "markdown",
   "id": "83a0f921",
   "metadata": {},
   "source": [
    "We check the consistency of `solution` (using `check_solution`) and provide a description of `solution` (using `describe_solution`). These two functions are defined in the notebook [`SolveAiyagari`](./SolveAiyagari.html)."
   ]
  },
  {
   "cell_type": "code",
   "execution_count": 5,
   "id": "14b954c7",
   "metadata": {},
   "outputs": [
    {
     "name": "stdout",
     "output_type": "stream",
     "text": [
      "Lτ = 1.00000000000298\n",
      "01. Gini                               0.7085\n",
      "02. Debt-to-GDP, B/Y                   0.0%\n",
      "03. Public spending-to-GDP, G/Y        8.01%\n",
      "04. Aggregate consumption-to-GDP, C/Y  65.24%\n",
      "05. Capital-to-GDP, K/Y                267.5%\n",
      "06. Investment-to-GDP, I/Y             26.75%\n",
      "07. Transfers-to-GDP, Tt/Y             -8.01%\n",
      "08. Aggregate labor supply, L          1.0\n",
      "09. Average MPC                        0.22\n",
      "10. Consumption tax-to-GDP             0.0%\n",
      "11. Labor tax-to-GDP                   -0.0%\n",
      "12. Capital tax-to-GDP                 0.0%\n",
      "13. Total tax-to-GDP                   8.01%\n",
      "14. Share of credit-constrained agents 20.46%\n"
     ]
    }
   ],
   "source": [
    "@assert check_solution(solution_Tt, economy_Tt)\n",
    "(print_dict ∘ describe_solution)(solution_Tt,economy_Tt)"
   ]
  },
  {
   "cell_type": "code",
   "execution_count": 5,
   "id": "6e032ef0",
   "metadata": {
    "scrolled": true
   },
   "outputs": [
    {
     "name": "stdout",
     "output_type": "stream",
     "text": [
      "01. Gini                               0.7225\n",
      "02. Debt-to-GDP, B/Y                   0.0%\n",
      "03. Public spending-to-GDP, G/Y        8.01%\n",
      "04. Aggregate consumption-to-GDP, C/Y  65.46%\n",
      "05. Capital-to-GDP, K/Y                265.33%\n",
      "06. Investment-to-GDP, I/Y             26.53%\n",
      "07. Transfers-to-GDP, Tt/Y             -0.0%\n",
      "08. Aggregate labor supply, L          1.0\n",
      "09. Average MPC                        0.2434\n",
      "10. Consumption tax-to-GDP             0.0%\n",
      "11. Labor tax-to-GDP                   8.01%\n",
      "12. Capital tax-to-GDP                 0.0%\n",
      "13. Total tax-to-GDP                   8.01%\n",
      "14. Share of credit-constrained agents 22.15%\n"
     ]
    },
    {
     "name": "stderr",
     "output_type": "stream",
     "text": [
      "WARNING: both Roots and QuantEcon export \"solve\"; uses of it in module Main must be qualified\n"
     ]
    }
   ],
   "source": [
    "@assert check_solution(solution_τl, economy_τl)\n",
    "(print_dict ∘ describe_solution)(solution_τl, economy_τl)"
   ]
  },
  {
   "cell_type": "markdown",
   "id": "ee7d667f",
   "metadata": {},
   "source": [
    "## Aggregating the Aiyagari model to get the truncated model\n",
    "\n",
    "We set the truncation length to 2 and compute the truncated model using the function `Project_plan`. We then check that the truncated model is consistent using the function `check_solution_trunc`. Both functions are defined in the notebook [`Truncation`](./Truncation.html)."
   ]
  },
  {
   "cell_type": "code",
   "execution_count": 11,
   "id": "017e08df",
   "metadata": {},
   "outputs": [],
   "source": [
    "# Setting the truncation length\n",
    "for N = 2:6\n",
    "\n",
    "# Computing the truncated model\n",
    "    trunc = Truncate(N,solution_Tt,economy_Tt);  \n",
    "\n",
    "    # Checking the consistency of the projected model\n",
    "    @assert check_truncated_model(trunc,solution_Tt,economy_Tt)\n",
    "\n",
    "    # Writing the results in the file todynare_Truncation.mat for running Dynare \n",
    "    Write_Dynare(trunc,solution_Tt,economy_Tt, outname=\"todynare_Truncation_N_$N.mat\")\n",
    "end"
   ]
  },
  {
   "cell_type": "code",
   "execution_count": 9,
   "id": "4c0930e5",
   "metadata": {},
   "outputs": [
    {
     "data": {
      "text/plain": [
       "\"todynare_Truncation_N=1.mat\""
      ]
     },
     "execution_count": 9,
     "metadata": {},
     "output_type": "execute_result"
    }
   ],
   "source": [
    "N = 1\n",
    "\"todynare_Truncation_N=$N.mat\""
   ]
  },
  {
   "cell_type": "markdown",
   "id": "52654824",
   "metadata": {},
   "source": [
    "The model needs then to be run on Dynare."
   ]
  }
 ],
 "metadata": {
  "kernelspec": {
   "display_name": "Julia 1.8.0",
   "language": "julia",
   "name": "julia-1.8"
  },
  "language_info": {
   "file_extension": ".jl",
   "mimetype": "application/julia",
   "name": "julia",
   "version": "1.8.0"
  }
 },
 "nbformat": 4,
 "nbformat_minor": 5
}
